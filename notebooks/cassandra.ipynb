{
 "cells": [
  {
   "cell_type": "code",
   "execution_count": 1,
   "metadata": {},
   "outputs": [],
   "source": [
    "import logging\n",
    "from cassandra.cqlengine import columns\n",
    "from cassandra.cqlengine.models import Model\n",
    "from cassandra.cluster import Cluster, BatchStatement\n",
    "from cassandra.query import SimpleStatement"
   ]
  },
  {
   "cell_type": "code",
   "execution_count": 2,
   "metadata": {},
   "outputs": [],
   "source": [
    "class PythonCassandra:\n",
    "    def __init__(self):\n",
    "        self.cluster = None\n",
    "        self.session = None\n",
    "        self.keyspace = None\n",
    "        self.log = None\n",
    "    def __del__(self):\n",
    "        self.cluster.shutdown()\n",
    "    def createsession(self):\n",
    "        self.cluster = Cluster(['localhost'])\n",
    "        self.session = self.cluster.connect(self.keyspace)\n",
    "    def getsession(self):\n",
    "        return self.session\n",
    "    # How about Adding some log info to see what went wrong\n",
    "    def setlogger(self):\n",
    "        log = logging.getLogger()\n",
    "        log.setLevel('INFO')\n",
    "        handler = logging.StreamHandler()\n",
    "        handler.setFormatter(logging.Formatter(\"%(asctime)s [%(levelname)s] %(name)s: %(message)s\"))\n",
    "        log.addHandler(handler)\n",
    "        self.log = log\n",
    "    # Create Keyspace based on Given Name\n",
    "    def createkeyspace(self, keyspace):\n",
    "        \"\"\"\n",
    "        :param keyspace:  The Name of Keyspace to be created\n",
    "        :return:\n",
    "        \"\"\"\n",
    "        # Before we create new lets check if exiting keyspace; we will drop that and create new\n",
    "        rows = self.session.execute(\"SELECT keyspace_name FROM system_schema.keyspaces\")\n",
    "        exists=False\n",
    "        if keyspace in [row[0] for row in rows]:\n",
    "            keyspace_exists = True\n",
    "        if keyspace_exists is False:\n",
    "            #self.log.info(\"dropping existing keyspace...\")\n",
    "            #self.session.execute(\"DROP KEYSPACE \" + keyspace)\n",
    "            self.log.info(\"creating keyspace...\")\n",
    "            self.session.execute(\"\"\"\n",
    "                CREATE KEYSPACE %s\n",
    "                WITH replication = { 'class': 'SimpleStrategy', 'replication_factor': '1' }\n",
    "                \"\"\" % keyspace)\n",
    "            self.log.info(\"setting keyspace...\")\n",
    "        self.session.set_keyspace(keyspace)\n",
    "    def create_table_block(self):\n",
    "        c_sql = \"\"\"\n",
    "                CREATE TABLE IF NOT EXISTS block (block_number bigint, block_hash varchar,\n",
    "                                              miner_address varchar, parent_hash varchar, receipt_tx_root varchar,\n",
    "                                              state_root varchar, tx_trie_root varchar, extra_data varchar, \n",
    "                                              nonce varchar, bloom varchar, solution varchar, difficulty varchar, \n",
    "                                              total_difficulty varchar, nrg_consumed bigint, nrg_limit bigint,\n",
    "                                              block_size bigint, block_timestamp bigint, block_hour tinyint, num_transactions bigint,\n",
    "                                              block_time bigint, nrg_reward varchar, transaction_id bigint,\n",
    "                                              transaction_list varchar,\n",
    "                                              PRIMARY KEY ((block_number), block month)\n",
    "                                              );\n",
    "                 \"\"\"\n",
    "        self.session.execute(c_sql)\n",
    "        self.log.info(\"Block Table Created !!!\")\n",
    "    def insert_data_block(self,myTuple):\n",
    "        insert_sql = self.session.prepare(\"INSERT INTO  block(block_number, miner_address) VALUES (?,?)\")\n",
    "        batch = BatchStatement()\n",
    "        batch.add(insert_sql, (1, 'LyubovK'))\n",
    "        batch.add(insert_sql, myTuple)\n",
    "        self.session.execute(batch)\n",
    "        self.log.info('Batch Insert Completed')\n",
    "        \n",
    "    def select_data(self,table):\n",
    "        rows = self.session.execute('select * from '+table)\n",
    "        for row in rows:\n",
    "            print(row)\n",
    "\n",
    "    def update_data(self):\n",
    "        pass\n",
    "\n",
    "    def delete_data(self):\n",
    "        pass\n",
    "    \n",
    "pc = PythonCassandra()\n",
    "pc.createsession()\n",
    "pc.setlogger()\n",
    "pc.createkeyspace('aion')\n",
    "#pc.create_table_block()\n",
    "#pc.insert_data_block((1,'hello'))\n",
    "#rows = pc.session.execute('SELECT MAX(block_number) FROM block where block_number = 1')\n",
    "#for row in rows:\n",
    "    #print(row)"
   ]
  },
  {
   "cell_type": "code",
   "execution_count": 22,
   "metadata": {},
   "outputs": [
    {
     "data": {
      "text/plain": [
       "<cassandra.cluster.ResultSet at 0x7f28d04f1400>"
      ]
     },
     "execution_count": 22,
     "metadata": {},
     "output_type": "execute_result"
    }
   ],
   "source": [
    "\n",
    "# DROP BLOCK\n",
    "c_sql = \"\"\"\n",
    "                DROP TABLE IF EXISTS aion.block\n",
    "                 \"\"\"\n",
    "pc.session.execute(c_sql)\n"
   ]
  },
  {
   "cell_type": "code",
   "execution_count": 5,
   "metadata": {},
   "outputs": [
    {
     "data": {
      "text/plain": [
       "<cassandra.cluster.ResultSet at 0x7fda0e20b860>"
      ]
     },
     "execution_count": 5,
     "metadata": {},
     "output_type": "execute_result"
    }
   ],
   "source": [
    "# DROP Transaction\n",
    "c_sql = \"\"\"\n",
    "                DROP TABLE IF EXISTS aion.transaction\n",
    "                 \"\"\"\n",
    "pc.session.execute(c_sql)"
   ]
  },
  {
   "cell_type": "code",
   "execution_count": 20,
   "metadata": {},
   "outputs": [
    {
     "name": "stderr",
     "output_type": "stream",
     "text": [
      "2018-12-20 02:23:02,881 [INFO] cassandra.policies: Using datacenter 'datacenter1' for DCAwareRoundRobinPolicy (via host '127.0.0.1'); if incorrect, please specify a local_dc to the constructor, or limit contact points to local cluster nodes\n",
      "2018-12-20 02:23:02,881 [INFO] cassandra.policies: Using datacenter 'datacenter1' for DCAwareRoundRobinPolicy (via host '127.0.0.1'); if incorrect, please specify a local_dc to the constructor, or limit contact points to local cluster nodes\n",
      "2018-12-20 02:23:02,881 [INFO] cassandra.policies: Using datacenter 'datacenter1' for DCAwareRoundRobinPolicy (via host '127.0.0.1'); if incorrect, please specify a local_dc to the constructor, or limit contact points to local cluster nodes\n",
      "2018-12-20 02:23:02,881 [INFO] cassandra.policies: Using datacenter 'datacenter1' for DCAwareRoundRobinPolicy (via host '127.0.0.1'); if incorrect, please specify a local_dc to the constructor, or limit contact points to local cluster nodes\n",
      "2018-12-20 02:23:02,881 [INFO] cassandra.policies: Using datacenter 'datacenter1' for DCAwareRoundRobinPolicy (via host '127.0.0.1'); if incorrect, please specify a local_dc to the constructor, or limit contact points to local cluster nodes\n",
      "2018-12-20 02:23:02,881 [INFO] cassandra.policies: Using datacenter 'datacenter1' for DCAwareRoundRobinPolicy (via host '127.0.0.1'); if incorrect, please specify a local_dc to the constructor, or limit contact points to local cluster nodes\n",
      "2018-12-20 02:23:02,881 [INFO] cassandra.policies: Using datacenter 'datacenter1' for DCAwareRoundRobinPolicy (via host '127.0.0.1'); if incorrect, please specify a local_dc to the constructor, or limit contact points to local cluster nodes\n",
      "2018-12-20 02:23:02,881 [INFO] cassandra.policies: Using datacenter 'datacenter1' for DCAwareRoundRobinPolicy (via host '127.0.0.1'); if incorrect, please specify a local_dc to the constructor, or limit contact points to local cluster nodes\n",
      "2018-12-20 02:23:02,881 [INFO] cassandra.policies: Using datacenter 'datacenter1' for DCAwareRoundRobinPolicy (via host '127.0.0.1'); if incorrect, please specify a local_dc to the constructor, or limit contact points to local cluster nodes\n",
      "2018-12-20 02:23:02,881 [INFO] cassandra.policies: Using datacenter 'datacenter1' for DCAwareRoundRobinPolicy (via host '127.0.0.1'); if incorrect, please specify a local_dc to the constructor, or limit contact points to local cluster nodes\n",
      "2018-12-20 02:23:02,881 [INFO] cassandra.policies: Using datacenter 'datacenter1' for DCAwareRoundRobinPolicy (via host '127.0.0.1'); if incorrect, please specify a local_dc to the constructor, or limit contact points to local cluster nodes\n",
      "2018-12-20 02:23:02,881 [INFO] cassandra.policies: Using datacenter 'datacenter1' for DCAwareRoundRobinPolicy (via host '127.0.0.1'); if incorrect, please specify a local_dc to the constructor, or limit contact points to local cluster nodes\n",
      "2018-12-20 02:23:02,881 [INFO] cassandra.policies: Using datacenter 'datacenter1' for DCAwareRoundRobinPolicy (via host '127.0.0.1'); if incorrect, please specify a local_dc to the constructor, or limit contact points to local cluster nodes\n",
      "2018-12-20 02:23:02,881 [INFO] cassandra.policies: Using datacenter 'datacenter1' for DCAwareRoundRobinPolicy (via host '127.0.0.1'); if incorrect, please specify a local_dc to the constructor, or limit contact points to local cluster nodes\n",
      "2018-12-20 02:23:02,881 [INFO] cassandra.policies: Using datacenter 'datacenter1' for DCAwareRoundRobinPolicy (via host '127.0.0.1'); if incorrect, please specify a local_dc to the constructor, or limit contact points to local cluster nodes\n",
      "2018-12-20 02:23:02,881 [INFO] cassandra.policies: Using datacenter 'datacenter1' for DCAwareRoundRobinPolicy (via host '127.0.0.1'); if incorrect, please specify a local_dc to the constructor, or limit contact points to local cluster nodes\n",
      "2018-12-20 02:23:02,881 [INFO] cassandra.policies: Using datacenter 'datacenter1' for DCAwareRoundRobinPolicy (via host '127.0.0.1'); if incorrect, please specify a local_dc to the constructor, or limit contact points to local cluster nodes\n",
      "2018-12-20 02:23:03,006 [WARNING] cassandra.protocol: Server warning: Aggregation query used without partition key\n",
      "2018-12-20 02:23:03,006 [WARNING] cassandra.protocol: Server warning: Aggregation query used without partition key\n",
      "2018-12-20 02:23:03,006 [WARNING] cassandra.protocol: Server warning: Aggregation query used without partition key\n",
      "2018-12-20 02:23:03,006 [WARNING] cassandra.protocol: Server warning: Aggregation query used without partition key\n",
      "2018-12-20 02:23:03,006 [WARNING] cassandra.protocol: Server warning: Aggregation query used without partition key\n",
      "2018-12-20 02:23:03,006 [WARNING] cassandra.protocol: Server warning: Aggregation query used without partition key\n",
      "2018-12-20 02:23:03,006 [WARNING] cassandra.protocol: Server warning: Aggregation query used without partition key\n",
      "2018-12-20 02:23:03,006 [WARNING] cassandra.protocol: Server warning: Aggregation query used without partition key\n",
      "2018-12-20 02:23:03,006 [WARNING] cassandra.protocol: Server warning: Aggregation query used without partition key\n",
      "2018-12-20 02:23:03,006 [WARNING] cassandra.protocol: Server warning: Aggregation query used without partition key\n",
      "2018-12-20 02:23:03,006 [WARNING] cassandra.protocol: Server warning: Aggregation query used without partition key\n",
      "2018-12-20 02:23:03,006 [WARNING] cassandra.protocol: Server warning: Aggregation query used without partition key\n",
      "2018-12-20 02:23:03,006 [WARNING] cassandra.protocol: Server warning: Aggregation query used without partition key\n",
      "2018-12-20 02:23:03,006 [WARNING] cassandra.protocol: Server warning: Aggregation query used without partition key\n",
      "2018-12-20 02:23:03,006 [WARNING] cassandra.protocol: Server warning: Aggregation query used without partition key\n",
      "2018-12-20 02:23:03,006 [WARNING] cassandra.protocol: Server warning: Aggregation query used without partition key\n",
      "2018-12-20 02:23:03,006 [WARNING] cassandra.protocol: Server warning: Aggregation query used without partition key\n",
      "2018-12-20 02:23:03,006 [WARNING] cassandra.protocol: Server warning: Aggregation query used without partition key\n"
     ]
    },
    {
     "name": "stdout",
     "output_type": "stream",
     "text": [
      "Row(count=3300)\n"
     ]
    }
   ],
   "source": [
    "from datetime import datetime\n",
    "\n",
    "pc = PythonCassandra()\n",
    "pc.createsession()\n",
    "pc.setlogger()\n",
    "'''\n",
    "to_check = tuple(range(15000,15100))\n",
    "rows = pc.session.execute(\"\"\"SELECT block_timestamp, block_date FROM aion.block \n",
    "    where block_number in \"\"\"+str(to_check))\n",
    "'''\n",
    "rows = pc.session.execute(\"\"\"SELECT count(*) FROM aion.transaction\"\"\")\n",
    "\n",
    "for row in rows:\n",
    "    print(row)"
   ]
  },
  {
   "cell_type": "code",
   "execution_count": 23,
   "metadata": {
    "scrolled": true
   },
   "outputs": [
    {
     "name": "stderr",
     "output_type": "stream",
     "text": [
      "2018-12-20 02:23:31,550 [INFO] cassandra.policies: Using datacenter 'datacenter1' for DCAwareRoundRobinPolicy (via host '127.0.0.1'); if incorrect, please specify a local_dc to the constructor, or limit contact points to local cluster nodes\n",
      "2018-12-20 02:23:31,550 [INFO] cassandra.policies: Using datacenter 'datacenter1' for DCAwareRoundRobinPolicy (via host '127.0.0.1'); if incorrect, please specify a local_dc to the constructor, or limit contact points to local cluster nodes\n",
      "2018-12-20 02:23:31,550 [INFO] cassandra.policies: Using datacenter 'datacenter1' for DCAwareRoundRobinPolicy (via host '127.0.0.1'); if incorrect, please specify a local_dc to the constructor, or limit contact points to local cluster nodes\n",
      "2018-12-20 02:23:31,550 [INFO] cassandra.policies: Using datacenter 'datacenter1' for DCAwareRoundRobinPolicy (via host '127.0.0.1'); if incorrect, please specify a local_dc to the constructor, or limit contact points to local cluster nodes\n",
      "2018-12-20 02:23:31,550 [INFO] cassandra.policies: Using datacenter 'datacenter1' for DCAwareRoundRobinPolicy (via host '127.0.0.1'); if incorrect, please specify a local_dc to the constructor, or limit contact points to local cluster nodes\n",
      "2018-12-20 02:23:31,550 [INFO] cassandra.policies: Using datacenter 'datacenter1' for DCAwareRoundRobinPolicy (via host '127.0.0.1'); if incorrect, please specify a local_dc to the constructor, or limit contact points to local cluster nodes\n",
      "2018-12-20 02:23:31,550 [INFO] cassandra.policies: Using datacenter 'datacenter1' for DCAwareRoundRobinPolicy (via host '127.0.0.1'); if incorrect, please specify a local_dc to the constructor, or limit contact points to local cluster nodes\n",
      "2018-12-20 02:23:31,550 [INFO] cassandra.policies: Using datacenter 'datacenter1' for DCAwareRoundRobinPolicy (via host '127.0.0.1'); if incorrect, please specify a local_dc to the constructor, or limit contact points to local cluster nodes\n",
      "2018-12-20 02:23:31,550 [INFO] cassandra.policies: Using datacenter 'datacenter1' for DCAwareRoundRobinPolicy (via host '127.0.0.1'); if incorrect, please specify a local_dc to the constructor, or limit contact points to local cluster nodes\n",
      "2018-12-20 02:23:31,550 [INFO] cassandra.policies: Using datacenter 'datacenter1' for DCAwareRoundRobinPolicy (via host '127.0.0.1'); if incorrect, please specify a local_dc to the constructor, or limit contact points to local cluster nodes\n",
      "2018-12-20 02:23:31,550 [INFO] cassandra.policies: Using datacenter 'datacenter1' for DCAwareRoundRobinPolicy (via host '127.0.0.1'); if incorrect, please specify a local_dc to the constructor, or limit contact points to local cluster nodes\n",
      "2018-12-20 02:23:31,550 [INFO] cassandra.policies: Using datacenter 'datacenter1' for DCAwareRoundRobinPolicy (via host '127.0.0.1'); if incorrect, please specify a local_dc to the constructor, or limit contact points to local cluster nodes\n",
      "2018-12-20 02:23:31,550 [INFO] cassandra.policies: Using datacenter 'datacenter1' for DCAwareRoundRobinPolicy (via host '127.0.0.1'); if incorrect, please specify a local_dc to the constructor, or limit contact points to local cluster nodes\n",
      "2018-12-20 02:23:31,550 [INFO] cassandra.policies: Using datacenter 'datacenter1' for DCAwareRoundRobinPolicy (via host '127.0.0.1'); if incorrect, please specify a local_dc to the constructor, or limit contact points to local cluster nodes\n",
      "2018-12-20 02:23:31,550 [INFO] cassandra.policies: Using datacenter 'datacenter1' for DCAwareRoundRobinPolicy (via host '127.0.0.1'); if incorrect, please specify a local_dc to the constructor, or limit contact points to local cluster nodes\n",
      "2018-12-20 02:23:31,550 [INFO] cassandra.policies: Using datacenter 'datacenter1' for DCAwareRoundRobinPolicy (via host '127.0.0.1'); if incorrect, please specify a local_dc to the constructor, or limit contact points to local cluster nodes\n",
      "2018-12-20 02:23:31,550 [INFO] cassandra.policies: Using datacenter 'datacenter1' for DCAwareRoundRobinPolicy (via host '127.0.0.1'); if incorrect, please specify a local_dc to the constructor, or limit contact points to local cluster nodes\n",
      "2018-12-20 02:23:31,550 [INFO] cassandra.policies: Using datacenter 'datacenter1' for DCAwareRoundRobinPolicy (via host '127.0.0.1'); if incorrect, please specify a local_dc to the constructor, or limit contact points to local cluster nodes\n",
      "2018-12-20 02:23:31,550 [INFO] cassandra.policies: Using datacenter 'datacenter1' for DCAwareRoundRobinPolicy (via host '127.0.0.1'); if incorrect, please specify a local_dc to the constructor, or limit contact points to local cluster nodes\n",
      "2018-12-20 02:23:31,788 [WARNING] cassandra.protocol: Server warning: Aggregation query used without partition key\n",
      "2018-12-20 02:23:31,788 [WARNING] cassandra.protocol: Server warning: Aggregation query used without partition key\n",
      "2018-12-20 02:23:31,788 [WARNING] cassandra.protocol: Server warning: Aggregation query used without partition key\n",
      "2018-12-20 02:23:31,788 [WARNING] cassandra.protocol: Server warning: Aggregation query used without partition key\n",
      "2018-12-20 02:23:31,788 [WARNING] cassandra.protocol: Server warning: Aggregation query used without partition key\n",
      "2018-12-20 02:23:31,788 [WARNING] cassandra.protocol: Server warning: Aggregation query used without partition key\n",
      "2018-12-20 02:23:31,788 [WARNING] cassandra.protocol: Server warning: Aggregation query used without partition key\n",
      "2018-12-20 02:23:31,788 [WARNING] cassandra.protocol: Server warning: Aggregation query used without partition key\n",
      "2018-12-20 02:23:31,788 [WARNING] cassandra.protocol: Server warning: Aggregation query used without partition key\n",
      "2018-12-20 02:23:31,788 [WARNING] cassandra.protocol: Server warning: Aggregation query used without partition key\n",
      "2018-12-20 02:23:31,788 [WARNING] cassandra.protocol: Server warning: Aggregation query used without partition key\n",
      "2018-12-20 02:23:31,788 [WARNING] cassandra.protocol: Server warning: Aggregation query used without partition key\n",
      "2018-12-20 02:23:31,788 [WARNING] cassandra.protocol: Server warning: Aggregation query used without partition key\n",
      "2018-12-20 02:23:31,788 [WARNING] cassandra.protocol: Server warning: Aggregation query used without partition key\n",
      "2018-12-20 02:23:31,788 [WARNING] cassandra.protocol: Server warning: Aggregation query used without partition key\n",
      "2018-12-20 02:23:31,788 [WARNING] cassandra.protocol: Server warning: Aggregation query used without partition key\n",
      "2018-12-20 02:23:31,788 [WARNING] cassandra.protocol: Server warning: Aggregation query used without partition key\n",
      "2018-12-20 02:23:31,788 [WARNING] cassandra.protocol: Server warning: Aggregation query used without partition key\n",
      "2018-12-20 02:23:31,788 [WARNING] cassandra.protocol: Server warning: Aggregation query used without partition key\n",
      "2018-12-20 02:23:31,788 [WARNING] cassandra.protocol: Server warning: Aggregation query used without partition key\n"
     ]
    },
    {
     "name": "stdout",
     "output_type": "stream",
     "text": [
      "Row(count=5760)\n"
     ]
    }
   ],
   "source": [
    "from datetime import datetime\n",
    "\n",
    "pc = PythonCassandra()\n",
    "pc.createsession()\n",
    "pc.setlogger()\n",
    "'''\n",
    "to_check = tuple(range(15000,15100))\n",
    "rows = pc.session.execute(\"\"\"SELECT block_timestamp, block_date FROM aion.block \n",
    "    where block_number in \"\"\"+str(to_check))\n",
    "'''\n",
    "rows = pc.session.execute(\"\"\"SELECT count(*) FROM aion.block\"\"\")\n",
    "\n",
    "for row in rows:\n",
    "    print(row)"
   ]
  },
  {
   "cell_type": "code",
   "execution_count": 22,
   "metadata": {},
   "outputs": [
    {
     "name": "stdout",
     "output_type": "stream",
     "text": [
      "1524456000000\n",
      "1524628800000\n"
     ]
    },
    {
     "ename": "InvalidRequest",
     "evalue": "Error from server: code=2200 [Invalid query] message=\"unconfigured table block\"",
     "output_type": "error",
     "traceback": [
      "\u001b[0;31m---------------------------------------------------------------------------\u001b[0m",
      "\u001b[0;31mInvalidRequest\u001b[0m                            Traceback (most recent call last)",
      "\u001b[0;32m<ipython-input-22-4a54b742e115>\u001b[0m in \u001b[0;36m<module>\u001b[0;34m\u001b[0m\n\u001b[1;32m     20\u001b[0m     \u001b[0mALLOW\u001b[0m \u001b[0mFILTERING\u001b[0m\u001b[0;34m\u001b[0m\u001b[0m\n\u001b[1;32m     21\u001b[0m     \"\"\".format(from_date, to_date)\n\u001b[0;32m---> 22\u001b[0;31m \u001b[0mrows\u001b[0m \u001b[0;34m=\u001b[0m \u001b[0mpc\u001b[0m\u001b[0;34m.\u001b[0m\u001b[0msession\u001b[0m\u001b[0;34m.\u001b[0m\u001b[0mexecute\u001b[0m\u001b[0;34m(\u001b[0m\u001b[0mqry\u001b[0m\u001b[0;34m)\u001b[0m\u001b[0;34m\u001b[0m\u001b[0m\n\u001b[0m\u001b[1;32m     23\u001b[0m \u001b[0;32mfor\u001b[0m \u001b[0mrow\u001b[0m \u001b[0;32min\u001b[0m \u001b[0mrows\u001b[0m\u001b[0;34m:\u001b[0m\u001b[0;34m\u001b[0m\u001b[0m\n\u001b[1;32m     24\u001b[0m     \u001b[0mprint\u001b[0m\u001b[0;34m(\u001b[0m\u001b[0mrow\u001b[0m\u001b[0;34m)\u001b[0m\u001b[0;34m\u001b[0m\u001b[0m\n",
      "\u001b[0;32m~/anaconda3/envs/bokeh_aion_analytics/lib/python3.5/site-packages/cassandra/cluster.cpython-35m-x86_64-linux-gnu.so\u001b[0m in \u001b[0;36mcassandra.cluster.Session.execute (cassandra/cluster.c:35551)\u001b[0;34m()\u001b[0m\n",
      "\u001b[0;32m~/anaconda3/envs/bokeh_aion_analytics/lib/python3.5/site-packages/cassandra/cluster.cpython-35m-x86_64-linux-gnu.so\u001b[0m in \u001b[0;36mcassandra.cluster.ResponseFuture.result (cassandra/cluster.c:74495)\u001b[0;34m()\u001b[0m\n",
      "\u001b[0;31mInvalidRequest\u001b[0m: Error from server: code=2200 [Invalid query] message=\"unconfigured table block\""
     ]
    }
   ],
   "source": [
    "import pandas as pd\n",
    "def str_to_cass_ts(ts):\n",
    "    #ts = pd.Timestamp(ts, unit='ns')\n",
    "    ts = datetime.strptime(ts,'%Y-%m-%d')\n",
    "    ts = int(ts.timestamp()*1000)\n",
    "    print(ts)\n",
    "    return ts\n",
    "\n",
    "\n",
    "# select data using datetime\n",
    "from_date = \"2018-04-23\"\n",
    "to_date = \"2018-04-25\"\n",
    "#convert to nanoseconds\n",
    "from_date = str_to_cass_ts(from_date)\n",
    "to_date = str_to_cass_ts(to_date)\n",
    "\n",
    "qry = \"\"\"SELECT count(*) from aionv4.block \n",
    "    where block_timestamp >= {} \n",
    "    and block_timestamp <= {} \n",
    "    ALLOW FILTERING\n",
    "    \"\"\".format(from_date, to_date)\n",
    "rows = pc.session.execute(qry)\n",
    "for row in rows:\n",
    "    print(row)\n"
   ]
  },
  {
   "cell_type": "code",
   "execution_count": null,
   "metadata": {},
   "outputs": [],
   "source": []
  }
 ],
 "metadata": {
  "kernelspec": {
   "display_name": "Python 3",
   "language": "python",
   "name": "python3"
  },
  "language_info": {
   "codemirror_mode": {
    "name": "ipython",
    "version": 3
   },
   "file_extension": ".py",
   "mimetype": "text/x-python",
   "name": "python",
   "nbconvert_exporter": "python",
   "pygments_lexer": "ipython3",
   "version": "3.5.5"
  },
  "toc": {
   "base_numbering": 1,
   "nav_menu": {},
   "number_sections": true,
   "sideBar": true,
   "skip_h1_title": false,
   "title_cell": "Table of Contents",
   "title_sidebar": "Contents",
   "toc_cell": false,
   "toc_position": {},
   "toc_section_display": true,
   "toc_window_display": false
  }
 },
 "nbformat": 4,
 "nbformat_minor": 2
}
